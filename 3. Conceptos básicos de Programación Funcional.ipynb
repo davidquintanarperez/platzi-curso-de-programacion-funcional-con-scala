{
 "cells": [
  {
   "cell_type": "markdown",
   "metadata": {},
   "source": [
    ">## 3. Conceptos básicos de Programación Funcional"
   ]
  },
  {
   "cell_type": "markdown",
   "metadata": {},
   "source": [
    ">## Encontrando patrones\n",
    "> En programación funcional, la herencia no suele ser tan importante como en OOP, pero la forma de los datos suele importar mucho mas.\n",
    ">\n",
    ">## Pattern Matching\n",
    ">Similar a un _switch_ de otros lenguajes, nos permite definir __casos__ de emparejamient.\n",
    ">\n",
    "> Puede usarse como una alternativa al if, pero es mucho mas potente."
   ]
  },
  {
   "cell_type": "code",
   "execution_count": null,
   "metadata": {},
   "outputs": [],
   "source": [
    "\"hola\" match {\n",
    "    case \"mundo\" => \"oo\"\n",
    "    case \"hola\" => \"aa\"\n",
    "}"
   ]
  },
  {
   "cell_type": "code",
   "execution_count": null,
   "metadata": {},
   "outputs": [],
   "source": [
    "def g(x: Seq[Int]) = x match {\n",
    "    case List(a, b, c) => a + b + c\n",
    "    case List(a, b, c, d) => a + b + c + d\n",
    "    case _ => 0\n",
    "}"
   ]
  },
  {
   "cell_type": "code",
   "execution_count": null,
   "metadata": {},
   "outputs": [],
   "source": [
    "g(Seq(1,1,1))\n",
    "// g(Seq(1,1))\n",
    "// g(Seq(1,1,1,1))\n",
    "// g(Seq(1,1,1,1,1))"
   ]
  },
  {
   "cell_type": "code",
   "execution_count": null,
   "metadata": {},
   "outputs": [],
   "source": [
    "case class Persona(nombre: String, edad:Int)\n",
    "\n",
    "val p1 = Persona(\"Maria\", 20)\n",
    "val p2 = Persona(\"Fredy\", 15)\n",
    "\n",
    "def h(x: Persona) = x match {\n",
    "    case y if y.edad >= 18 => \"Mayor de edad\"\n",
    "    case _ => \"No es mayor de edad\"\n",
    "}"
   ]
  },
  {
   "cell_type": "code",
   "execution_count": null,
   "metadata": {},
   "outputs": [],
   "source": [
    "h(p1)"
   ]
  },
  {
   "cell_type": "code",
   "execution_count": null,
   "metadata": {},
   "outputs": [],
   "source": [
    "h(p2)"
   ]
  },
  {
   "cell_type": "markdown",
   "metadata": {},
   "source": [
    ">## Reto\n",
    ">Mejorar el ultimo match, para responder diferente si alguien se llama Maria y es Mayor de Edad, cuando se llama Maria y es Menor de edad y los otros casos posibles."
   ]
  },
  {
   "cell_type": "code",
   "execution_count": null,
   "metadata": {},
   "outputs": [],
   "source": [
    "case class Persona(nombre: String, edad:Int)\n",
    "\n",
    "val p1 = Persona(\"Maria\", 20)\n",
    "val p2 = Persona(\"Maria\", 17)\n",
    "val p3 = Persona(\"Fredy\", 15)\n",
    "\n",
    "def h(x: Persona) = x match {\n",
    "    case y if y.edad >= 18 & y.nombre == \"Maria\" => \"Maria es mayor de edad\"\n",
    "    case y if y.edad < 18 & y.nombre == \"Maria\" => \"Maria es menor de edad\"\n",
    "    case _ => \"No es Maria\"\n",
    "}"
   ]
  },
  {
   "cell_type": "code",
   "execution_count": null,
   "metadata": {},
   "outputs": [],
   "source": [
    "h(p1)"
   ]
  },
  {
   "cell_type": "code",
   "execution_count": null,
   "metadata": {},
   "outputs": [],
   "source": [
    "h(p2)"
   ]
  },
  {
   "cell_type": "code",
   "execution_count": null,
   "metadata": {},
   "outputs": [],
   "source": [
    "h(p3)"
   ]
  },
  {
   "cell_type": "markdown",
   "metadata": {},
   "source": [
    ">### B. Tail recursion\n",
    ">#### Recursion\n",
    ">Una manera de abordar los problemas donde una funcion se llama a si misma.\n",
    ">\n",
    ">Es la manera clasica de programar en lenguajes funcionales.\n",
    ">####Tail recursion\n",
    ">Es una pequena modificacion sobre un algoritmo recursivo con el objetivo de optimizar su ejecucion.\n",
    ">\n",
    ">Lo que se busca es no llenar de stackcon llamadas, sino realizar la operacion que queremos y pasar su acumulacion al sigiente paso."
   ]
  },
  {
   "cell_type": "code",
   "execution_count": null,
   "metadata": {},
   "outputs": [],
   "source": [
    "def factorial(n: Long): Long = {\n",
    "    if (n == 0) {\n",
    "        println(\"Termino\")\n",
    "        1\n",
    "    } else {\n",
    "        println(s\"Va calculando ${n}\")\n",
    "        n * factorial(n-1)\n",
    "    }\n",
    "}\n",
    "\n",
    "println(factorial(3))"
   ]
  },
  {
   "cell_type": "code",
   "execution_count": null,
   "metadata": {},
   "outputs": [],
   "source": [
    "def factorial(n: Long, resultado: Long = 1L): Long = {\n",
    "    if (n == 0) {\n",
    "        println(\"Termino\")\n",
    "        resultado\n",
    "    } else {\n",
    "        println(s\"Va calculando ${n}, resultado: ${resultado}\")\n",
    "        factorial(n-1, n * resultado)\n",
    "    }\n",
    "}\n",
    "\n",
    "println(factorial(3))"
   ]
  },
  {
   "cell_type": "markdown",
   "metadata": {},
   "source": [
    ">## C. Agregación\n",
    ">### Acumuladores\n",
    "> Cuando trabajamos con Listas en lenguajes funcionales, hay casos en los que necesitaremos hacer acumuladores de datos para entregar un resultado final.\n",
    ">\n",
    "> Un ejemplo de un acumulador seria la función *sum*, que esta disponible para listas de números.\n",
    ">\n",
    "> Pero existe una función mas general\n",
    ">### FoldLeft y FoldRight"
   ]
  },
  {
   "cell_type": "code",
   "execution_count": null,
   "metadata": {},
   "outputs": [],
   "source": [
    "// Ctrl-/\n",
    "// def factorial(n: Long, resultado: Long = 1L): Long = {\n",
    "//     if (n == 0) {\n",
    "//         println(\"Termino\")\n",
    "//         resultado\n",
    "//     } else {\n",
    "//         println(s\"Va calculando ${n}, resultado: ${resultado}\")\n",
    "//         factorial(n-1, n * resultado)\n",
    "//     }\n",
    "// }\n",
    "\n",
    "val resultado = (1 to 3).foldLeft(1L)((r,n) => r*n)\n",
    "\n",
    "println(resultado)"
   ]
  },
  {
   "cell_type": "code",
   "execution_count": null,
   "metadata": {},
   "outputs": [],
   "source": []
  }
 ],
 "metadata": {
  "kernelspec": {
   "display_name": "spylon-kernel",
   "language": "scala",
   "name": "spylon-kernel"
  },
  "language_info": {
   "codemirror_mode": "text/x-scala",
   "file_extension": ".scala",
   "help_links": [
    {
     "text": "MetaKernel Magics",
     "url": "https://metakernel.readthedocs.io/en/latest/source/README.html"
    }
   ],
   "mimetype": "text/x-scala",
   "name": "scala",
   "pygments_lexer": "scala",
   "version": "0.4.1"
  }
 },
 "nbformat": 4,
 "nbformat_minor": 4
}
