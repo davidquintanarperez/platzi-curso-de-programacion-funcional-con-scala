{
 "cells": [
  {
   "cell_type": "markdown",
   "metadata": {},
   "source": [
    "# 2. Fundamentos de Programación Funcional"
   ]
  },
  {
   "cell_type": "markdown",
   "metadata": {},
   "source": [
    ">## A. Tipos de datos básicos\n",
    "> https://docs.scala-lang.org/tour/unified-types.html\n",
    ">\n",
    "> Scala tiene una familia de tipos de datos básicos que no son nada diferentes a los que quizás ya conozcas de otros lenguajes. Lo que quizás sí tiene de diferente es cómo se relacionan estos tipos entre ellos.\n",
    ">\n",
    "> Como Scala mezcla conceptos de programación orientada a objetos con conceptos de programación funcional, el polimorfismo generado por la herencia de estos tipos de datos puede ser importante en algunas ocasiones, aunque no te afectará para los temas que estaremos tratando a lo largo del curso.\n",
    ">\n",
    "> Existe entonces un tipo de dato llamado Any. Debajo de este tendremos otros dos: AnyVal y AnyRef. Este último no nos interesa para esta sección, pero el primero sí, así que vamos a verlo en más detalle.\n",
    ">\n",
    "> ![data types](https://docs.scala-lang.org/resources/images/tour/unified-types-diagram.svg)\n",
    ">\n",
    "> Los tipos que se relacionan con AnyVal son los que solemos llamar tipos de datos básicos, estos son: Double, Float, Long, Int, Short, Byte, Unit, Boolean, y Char.\n",
    ">\n",
    "> La mayoría te podrían sonar familiares:\n",
    ">\n",
    ">- **Boolean**: Es para almacenar falso o verdadero.\n",
    ">- **Double, Float, Long, Int, Short**: Son tipos numéricos.\n",
    ">- **Byte**: Se usa para datos binarios.\n",
    ">- **Char**: Se usa para almacenar caracteres/letras.\n",
    ">- **Unit**: Es quizás el tipo extraño acá, este tipo de dato tiene el objetivo de expresar la unidad o también puede entenderse como el vacío. Por ejemplo, en algunos lenguajes se usa una palabra reservada void para expresar esto, pero void no es tratado como un tipo de dato en sí. Usar Unit como un tipo de dato hace el lenguaje más consistente.\n",
    ">\n",
    "> Finalmente, tendremos un tipo de dato llamado **Nothing**, que como su nombre lo indica… es el tipo de dato que usaremos para expresar la nada.\n",
    ">\n",
    ">\n",
    "> Entonces, así como todos los tipos de datos provienen de Any, o dicho de otra manera, Any es lo que todos los tipos de datos tienen en común, ningún tipo de dato puede provenir de Nothing.\n",
    ">\n",
    "> En teoría de lenguajes de programación Nothing es lo que se conoce como bottom type, el tipo de dato más bajo del que ningún otro tipo de dato puede provenir. Any viene siendo el top type, el tipo de dato más alto del que todos los demás provienen.\n",
    ">\n",
    "> Si conoces los tipos básicos de Java, te habrás dado cuenta que aunque Scala tiene una relación muy cercana con Java, aquí no hay una diferencia en cuanto a tipos básicos con los demás tipos de datos.\n",
    ">\n",
    "> Por ejemplo en Java el tipo int es distinto al tipo Integer. En Scala de hecho, el tipo Int corresponde directamente al tipo Integer de Java. Lo interesante es que el compilador de Scala es inteligente, y sabe en qué momentos debe usar a bajo nivel, un tipo o el otro.\n",
    ">\n",
    "> Como ejercicio, investiga más sobre el tipo Unit y el tipo Nothing, haz un listado de los usos que podrías darles. También puedes escribir las dudas que te generen."
   ]
  },
  {
   "cell_type": "markdown",
   "metadata": {},
   "source": [
    ">## B. Inmutabilidad\n",
    ">### ¿Qué es **mutabilidad**?\n",
    "> Un dato mutable **puede cambiar** en el futuro.\n",
    ">\n",
    ">### ¿Qué es **inmutabilidad**?\n",
    "> Un dato inmutable **NO cambia** en el futuro."
   ]
  },
  {
   "cell_type": "markdown",
   "metadata": {},
   "source": [
    ">### Variables"
   ]
  },
  {
   "cell_type": "code",
   "execution_count": null,
   "metadata": {},
   "outputs": [],
   "source": [
    "var x = 1"
   ]
  },
  {
   "cell_type": "code",
   "execution_count": null,
   "metadata": {},
   "outputs": [],
   "source": [
    "var x: Int = 1"
   ]
  },
  {
   "cell_type": "code",
   "execution_count": null,
   "metadata": {},
   "outputs": [],
   "source": [
    "x = 2"
   ]
  },
  {
   "cell_type": "markdown",
   "metadata": {},
   "source": [
    ">### Valores"
   ]
  },
  {
   "cell_type": "code",
   "execution_count": null,
   "metadata": {},
   "outputs": [],
   "source": [
    "val y = 1"
   ]
  },
  {
   "cell_type": "code",
   "execution_count": null,
   "metadata": {},
   "outputs": [],
   "source": [
    "y = 2"
   ]
  },
  {
   "cell_type": "markdown",
   "metadata": {},
   "source": [
    ">### Definiciones"
   ]
  },
  {
   "cell_type": "code",
   "execution_count": null,
   "metadata": {},
   "outputs": [],
   "source": [
    "def z = 1"
   ]
  },
  {
   "cell_type": "code",
   "execution_count": null,
   "metadata": {},
   "outputs": [],
   "source": [
    "z"
   ]
  },
  {
   "cell_type": "code",
   "execution_count": null,
   "metadata": {},
   "outputs": [],
   "source": [
    "z = 2"
   ]
  },
  {
   "cell_type": "markdown",
   "metadata": {},
   "source": [
    ">### ¿Por qué es importante?\n",
    "> En programación funcional, evitaremos SIEMPRE los datos mutables (de ser posible).\n",
    ">\n",
    "> La razón principal es que la mutabilidad va **dificultar razonar** sobre el código.\n",
    ">\n",
    "> Haz visto \"datos mutables\" en una ecuación matemática?\n",
    ">\n",
    ">### ¿No es esto... ineficiente?\n",
    "> Si y no.\n",
    ">\n",
    "> Si, porque hay mas uso de memoria.\n",
    ">\n",
    "> No, porque simplifica mucha carga cognitiva en un sistema.\n",
    ">\n",
    ">### Solo en caso de optimización\n",
    "> La mutabilidad debería usarse cuando la eficiencia que ganamos agregándola es mayor que la complejidad cognitiva que se genera en el código.\n",
    ">\n",
    "> Es decir, en muy pocos casos."
   ]
  },
  {
   "cell_type": "markdown",
   "metadata": {},
   "source": [
    ">## C. Expresiones\n",
    ">### El bloque básico de construcción\n",
    "> Todo lo que definamos en nuestro código es expresión.\n",
    ">\n",
    "> Nada esta fuera de una expresión.\n",
    ">\n",
    ">### Valor de retorno\n",
    "> El dato al final de una expresión siempre es su valor de retorno.\n",
    ">\n",
    "> Por esta razón, no es necesario colocar nunca un return al final de una expresión.\n",
    ">\n",
    ">### ¿Cómo devolver... nada?\n",
    "> Una expresión que no devuelve \"nada\", en realidad devuelve un tipo llamado Unit."
   ]
  },
  {
   "cell_type": "code",
   "execution_count": null,
   "metadata": {},
   "outputs": [],
   "source": [
    "def x = (3)"
   ]
  },
  {
   "cell_type": "code",
   "execution_count": null,
   "metadata": {},
   "outputs": [],
   "source": [
    "def x = 3"
   ]
  },
  {
   "cell_type": "code",
   "execution_count": null,
   "metadata": {},
   "outputs": [],
   "source": [
    "def x = {3}"
   ]
  },
  {
   "cell_type": "code",
   "execution_count": null,
   "metadata": {},
   "outputs": [],
   "source": [
    "x"
   ]
  },
  {
   "cell_type": "code",
   "execution_count": null,
   "metadata": {},
   "outputs": [],
   "source": [
    "def z = { 1 ; 1+2 }"
   ]
  },
  {
   "cell_type": "code",
   "execution_count": null,
   "metadata": {},
   "outputs": [],
   "source": [
    "z"
   ]
  },
  {
   "cell_type": "code",
   "execution_count": null,
   "metadata": {},
   "outputs": [],
   "source": [
    "def z = ( 1 ; 1+2 )"
   ]
  },
  {
   "cell_type": "code",
   "execution_count": null,
   "metadata": {},
   "outputs": [],
   "source": [
    "if ( x != 3) \"no es tres\" else \"es tres\""
   ]
  },
  {
   "cell_type": "code",
   "execution_count": null,
   "metadata": {},
   "outputs": [],
   "source": [
    "if ( x != 3) \"no es tres\""
   ]
  },
  {
   "cell_type": "code",
   "execution_count": null,
   "metadata": {},
   "outputs": [],
   "source": [
    "val u = ()"
   ]
  },
  {
   "cell_type": "markdown",
   "metadata": {},
   "source": [
    ">## D. Funciones\n",
    ">### Al fin, funciones!\n",
    "> Hablemos de funciones en su definición matemática.\n",
    ">\n",
    ">- Dominio: Datos de entrada.\n",
    ">- Rango: Datos de salida.\n",
    ">\n",
    "> f: D -> R\n",
    ">\n",
    ">### Función de orden superior\n",
    "> Una función es tratada como un valor mas.\n",
    ">\n",
    "> Esto implica que una función puede recibir y retornar otras funciones\n",
    ">\n",
    ">### Funciones...\n",
    ">\n",
    ">- Funciones anónimas (Lambdas).\n",
    ">- Funciones como objetos.\n",
    ">- Funciones como métodos."
   ]
  },
  {
   "cell_type": "code",
   "execution_count": null,
   "metadata": {},
   "outputs": [],
   "source": [
    "def f(x: Int) = x * x"
   ]
  },
  {
   "cell_type": "code",
   "execution_count": null,
   "metadata": {},
   "outputs": [],
   "source": [
    "f(2)"
   ]
  },
  {
   "cell_type": "code",
   "execution_count": null,
   "metadata": {},
   "outputs": [],
   "source": [
    "f(4)"
   ]
  },
  {
   "cell_type": "markdown",
   "metadata": {},
   "source": [
    ">### Funciones anónimas"
   ]
  },
  {
   "cell_type": "code",
   "execution_count": null,
   "metadata": {},
   "outputs": [],
   "source": [
    "(x: Int) => x * x"
   ]
  },
  {
   "cell_type": "code",
   "execution_count": null,
   "metadata": {},
   "outputs": [],
   "source": [
    "val a = (x: Int) => x * x"
   ]
  },
  {
   "cell_type": "code",
   "execution_count": null,
   "metadata": {},
   "outputs": [],
   "source": [
    "a(2)"
   ]
  },
  {
   "cell_type": "code",
   "execution_count": null,
   "metadata": {},
   "outputs": [],
   "source": [
    "a(4)"
   ]
  },
  {
   "cell_type": "markdown",
   "metadata": {},
   "source": [
    ">### Funciones como objetos.\n",
    "> Como sabemos cuando una función es tratada como un objeto?"
   ]
  },
  {
   "cell_type": "code",
   "execution_count": null,
   "metadata": {},
   "outputs": [],
   "source": [
    "// Apply a function to its arguments (apply) / equivalente a llamar a la funcion\n",
    "f.apply(2)"
   ]
  },
  {
   "cell_type": "code",
   "execution_count": null,
   "metadata": {},
   "outputs": [],
   "source": [
    "a.apply(2)"
   ]
  },
  {
   "cell_type": "code",
   "execution_count": null,
   "metadata": {},
   "outputs": [],
   "source": [
    "// El _ es para tratar como un objeto\n",
    "val c = f _"
   ]
  },
  {
   "cell_type": "code",
   "execution_count": null,
   "metadata": {},
   "outputs": [],
   "source": [
    "c.apply(2)"
   ]
  },
  {
   "cell_type": "markdown",
   "metadata": {},
   "source": [
    ">### Funciones de orden superior"
   ]
  },
  {
   "cell_type": "code",
   "execution_count": null,
   "metadata": {},
   "outputs": [],
   "source": [
    "def g(h: Int => Int) = h(3)"
   ]
  },
  {
   "cell_type": "code",
   "execution_count": null,
   "metadata": {},
   "outputs": [],
   "source": [
    "g(f)"
   ]
  },
  {
   "cell_type": "code",
   "execution_count": null,
   "metadata": {},
   "outputs": [],
   "source": [
    "// Encadenar valores de entrada\n",
    "def k(h: Int => Int)(x: Int) = h(x)"
   ]
  },
  {
   "cell_type": "code",
   "execution_count": null,
   "metadata": {},
   "outputs": [],
   "source": [
    "k(f)(3)"
   ]
  },
  {
   "cell_type": "markdown",
   "metadata": {},
   "source": [
    ">### Funciones como métodos."
   ]
  },
  {
   "cell_type": "code",
   "execution_count": null,
   "metadata": {},
   "outputs": [],
   "source": [
    "object Util {\n",
    "    def metodo(x: Int) = x + x\n",
    "    val a = metodo _\n",
    "}"
   ]
  },
  {
   "cell_type": "code",
   "execution_count": null,
   "metadata": {},
   "outputs": [],
   "source": [
    "Util.metodo(3)"
   ]
  },
  {
   "cell_type": "code",
   "execution_count": null,
   "metadata": {},
   "outputs": [],
   "source": [
    "Util.a(3)"
   ]
  },
  {
   "cell_type": "markdown",
   "metadata": {},
   "source": [
    ">## Reto\n",
    ">\n",
    "> Crear una función que genere una función para calcular si un numero es mayor que el parámetro que se le paso"
   ]
  },
  {
   "cell_type": "code",
   "execution_count": null,
   "metadata": {},
   "outputs": [],
   "source": [
    "def isGreater(value: Int): String = {\n",
    "    val literal: Int = 10\n",
    "    if (value > 10) {\n",
    "        value + \" es mayor que \" + literal\n",
    "    } else {\n",
    "        value + \" es menor que \" + literal\n",
    "    }\n",
    "}"
   ]
  },
  {
   "cell_type": "code",
   "execution_count": null,
   "metadata": {},
   "outputs": [],
   "source": [
    "def funcGenerator(function: Int => String)(value: Int) = function(value)"
   ]
  },
  {
   "cell_type": "code",
   "execution_count": null,
   "metadata": {},
   "outputs": [],
   "source": [
    "funcGenerator(isGreater)(-5)"
   ]
  },
  {
   "cell_type": "code",
   "execution_count": null,
   "metadata": {},
   "outputs": [],
   "source": [
    "funcGenerator(isGreater)(-11)"
   ]
  },
  {
   "cell_type": "markdown",
   "metadata": {},
   "source": [
    ">## E. Colecciones: Secuencias, Conjuntos y Mapas\n",
    ">### Listas\n",
    "> Es el tipo de dato mas básico en lenguajes funcionales.\n",
    ">\n",
    "> A diferencia de las listas en otros lenguajes, aquí por defecto son inmutables.\n",
    ">- List, Seq, Array\n",
    ">\n",
    ">### Conjuntos\n",
    "> Es muy similar a usar una lista, pero conceptualmente es distinto.\n",
    ">\n",
    "> Por definición, los elementos en un conjunto no tienen orden, ni pueden estar repetidos\n",
    ">- Set\n",
    ">\n",
    ">### Mapas\n",
    "> También se les conoce como diccionarios.\n",
    ">\n",
    "> No es muy diferente a lo que ya conocemos, solo que también son inmutables por defecto.\n",
    ">- Map\n",
    ">\n",
    ">### Mutables vs. Inmutables\n",
    "> ![Mutables vs. Inmutables](https://docs.scala-lang.org/resources/images/tour/collections-diagram-213.svg)\n",
    ">\n",
    ">### Loops en FP\n",
    "> En programación funcional no usaremos un *for* o un *while* como se hace en lenguajes imperativos.\n",
    ">\n",
    "> Por el contrario, usaremos funciones que recorran los elementos de una lista por nosotros.\n",
    ">\n",
    ">- map()\n",
    ">- filter()\n",
    ">- filterNot()\n",
    ">- forEach()\n",
    ">- zip()\n",
    ">- find()\n",
    ">\n",
    ">### Listas\n",
    ">\n",
    ">>#### Seq"
   ]
  },
  {
   "cell_type": "code",
   "execution_count": null,
   "metadata": {},
   "outputs": [],
   "source": [
    "val a1 = Seq(1,2,3)"
   ]
  },
  {
   "cell_type": "code",
   "execution_count": null,
   "metadata": {},
   "outputs": [],
   "source": [
    "// Agregar valor\n",
    "a1.appended(4)"
   ]
  },
  {
   "cell_type": "code",
   "execution_count": null,
   "metadata": {},
   "outputs": [],
   "source": [
    "// Pero no se agrega, porque es inmutable\n",
    "a1"
   ]
  },
  {
   "cell_type": "code",
   "execution_count": null,
   "metadata": {},
   "outputs": [],
   "source": [
    "// Debemos guararlo en otro valor\n",
    "val a2 = a1.apended(4)"
   ]
  },
  {
   "cell_type": "code",
   "execution_count": null,
   "metadata": {},
   "outputs": [],
   "source": [
    "a1 :+ 4"
   ]
  },
  {
   "cell_type": "code",
   "execution_count": null,
   "metadata": {},
   "outputs": [],
   "source": [
    "a1.:+(4)"
   ]
  },
  {
   "cell_type": "code",
   "execution_count": null,
   "metadata": {},
   "outputs": [],
   "source": [
    "a1 appended 4"
   ]
  },
  {
   "cell_type": "code",
   "execution_count": null,
   "metadata": {},
   "outputs": [],
   "source": [
    "/*\n",
    " * a1.appended(4)\n",
    " * a1 :+ 4\n",
    " * a1.:+(4)\n",
    " * a1 appended 4\n",
    " */"
   ]
  },
  {
   "cell_type": "code",
   "execution_count": null,
   "metadata": {},
   "outputs": [],
   "source": [
    "// Seleccionar un valor\n",
    "a1(0)"
   ]
  },
  {
   "cell_type": "code",
   "execution_count": null,
   "metadata": {},
   "outputs": [],
   "source": [
    "a1(4)"
   ]
  },
  {
   "cell_type": "markdown",
   "metadata": {},
   "source": [
    ">### Conjuntos\n",
    ">>### Set"
   ]
  },
  {
   "cell_type": "code",
   "execution_count": null,
   "metadata": {},
   "outputs": [],
   "source": [
    "val c1 = Set(1,2,3)"
   ]
  },
  {
   "cell_type": "code",
   "execution_count": null,
   "metadata": {},
   "outputs": [],
   "source": [
    "c1.incl(4)"
   ]
  },
  {
   "cell_type": "code",
   "execution_count": null,
   "metadata": {},
   "outputs": [],
   "source": [
    "c1"
   ]
  },
  {
   "cell_type": "code",
   "execution_count": null,
   "metadata": {},
   "outputs": [],
   "source": [
    "val c2 = c1.incl(4)"
   ]
  },
  {
   "cell_type": "code",
   "execution_count": null,
   "metadata": {},
   "outputs": [],
   "source": [
    "c1 + 4"
   ]
  },
  {
   "cell_type": "code",
   "execution_count": null,
   "metadata": {},
   "outputs": [],
   "source": [
    "c2(4)"
   ]
  },
  {
   "cell_type": "code",
   "execution_count": null,
   "metadata": {},
   "outputs": [],
   "source": [
    "// Si existe un elemento\n",
    "c2(0)"
   ]
  },
  {
   "cell_type": "markdown",
   "metadata": {},
   "source": [
    ">### Mapas\n",
    ">>### Map"
   ]
  },
  {
   "cell_type": "code",
   "execution_count": null,
   "metadata": {},
   "outputs": [],
   "source": [
    "val m1 = Map(1)"
   ]
  },
  {
   "cell_type": "code",
   "execution_count": null,
   "metadata": {},
   "outputs": [],
   "source": [
    "val m1 = Map((1,\"hola\"))"
   ]
  },
  {
   "cell_type": "code",
   "execution_count": null,
   "metadata": {},
   "outputs": [],
   "source": [
    "val m2 = Map(1 -> \"hola\")"
   ]
  },
  {
   "cell_type": "code",
   "execution_count": null,
   "metadata": {},
   "outputs": [],
   "source": [
    "val m3 = m2 + (2, \"hello\")"
   ]
  },
  {
   "cell_type": "code",
   "execution_count": null,
   "metadata": {},
   "outputs": [],
   "source": [
    "val m3 = m2 + (2 -> \"hello\")"
   ]
  },
  {
   "cell_type": "code",
   "execution_count": null,
   "metadata": {},
   "outputs": [],
   "source": [
    "val m4 = m2 + (2 -> \"hello\"))"
   ]
  },
  {
   "cell_type": "code",
   "execution_count": null,
   "metadata": {},
   "outputs": [],
   "source": [
    "c2.map(x = x+1)"
   ]
  },
  {
   "cell_type": "code",
   "execution_count": null,
   "metadata": {},
   "outputs": [],
   "source": [
    "a2.map(x => x+1)"
   ]
  },
  {
   "cell_type": "code",
   "execution_count": null,
   "metadata": {},
   "outputs": [],
   "source": [
    "m2.view.mapValues(s => s + \"!\")"
   ]
  },
  {
   "cell_type": "markdown",
   "metadata": {},
   "source": [
    ">## Reto\n",
    ">\n",
    "> Crear un grupo de funciones para hallar la media, la mediana y la moda de una lista de números, devolviendo la respuesta dentro de un tipo Map."
   ]
  },
  {
   "cell_type": "code",
   "execution_count": null,
   "metadata": {},
   "outputs": [],
   "source": [
    "// Obtiene Media de una Seq\n",
    "def media(lista: Seq[Int]): Float = {\n",
    "    lista.sum.toFloat/lista.length.toFloat\n",
    "}\n",
    "\n",
    "// Obtiene Mediana de una Seq\n",
    "def mediana(lista: Seq[Int]): Float = {\n",
    "    val lista_ordenada = lista.sorted\n",
    "    if (lista.length%2 == 1) { //Impar\n",
    "        lista_ordenada(((lista.length+1)/2)-1).toFloat\n",
    "    } else { //Par\n",
    "        lista_ordenada((lista.length/2)-1).toFloat\n",
    "    }\n",
    "}\n",
    "\n",
    "// Obtiene Moda de una Seq\n",
    "def moda(lista: Seq[Int]): Float = {\n",
    "    val lista_de_listas = lista.groupBy(num => num)\n",
    "    val lista_conteo = lista_de_listas.map(lista => (lista._1 -> lista._2.length))\n",
    "    val lista_ordenada = lista_conteo.toSeq.sortBy(_._2)\n",
    "    lista_ordenada.last._1.toFloat\n",
    "}\n",
    "\n",
    "// Retorna medidas de tendencia central en un Map\n",
    "def medidas(lista: Seq[Int]): Map[String, Float] = {\n",
    "    Map(\n",
    "        (\"media\" -> media(lista)),\n",
    "        (\"mediana\" -> mediana(lista)),\n",
    "        (\"moda\" -> moda(lista))\n",
    "    )\n",
    "}\n",
    "\n",
    "var lista = Seq(1,2,3,2,2,2,3,3,2,1)\n",
    "//var lista = Seq(1,3,2,5,5)\n",
    "//var lista = Seq(1,2,3,4,5,6,7)\n",
    "\n",
    "medidas(lista)"
   ]
  },
  {
   "cell_type": "markdown",
   "metadata": {},
   "source": [
    ">### F. Tuplas y Objetos\n",
    ">#### Tuplas\n",
    "> Como agrupar distintos tipos de datos en uno? Una lista no funciona como esperamos(perdemos el tipo de dato).\n",
    ">\n",
    "> Las tuplas son una estructura de datos flexible y potente para agrupar datos.\n",
    ">\n",
    ">#### Objetos\n",
    "> En Scala tenemos una manera de definir *clases* cuyo objetivo es agrupar información.\n",
    ">\n",
    "> Programar de forma funcional implica separar los datos, de las operaciones sobre esos datos.\n",
    ">\n",
    ">#### Clases en OOP vs. FP\n",
    ">| OOP                                                | FP                                                  |\n",
    ">| -------------------------------------------------- | --------------------------------------------------- |\n",
    ">| Una clase en OOP tendrá atributos y métodos juntos | En FP hay clases que contienen únicamente atributos |\n",
    ">\n",
    ">\n",
    ">- Case Clase\n",
    ">- Traits\n",
    ">- ~~Classes~~\n",
    ">- ~~Abstract Classes~~\n",
    ">\n",
    ">### Tupla"
   ]
  },
  {
   "cell_type": "code",
   "execution_count": null,
   "metadata": {},
   "outputs": [],
   "source": [
    "val tupla = (1, \"David\", false)"
   ]
  },
  {
   "cell_type": "code",
   "execution_count": null,
   "metadata": {},
   "outputs": [],
   "source": [
    "tupla._1"
   ]
  },
  {
   "cell_type": "code",
   "execution_count": null,
   "metadata": {},
   "outputs": [],
   "source": [
    "tupla._2"
   ]
  },
  {
   "cell_type": "code",
   "execution_count": null,
   "metadata": {},
   "outputs": [],
   "source": [
    "tupla._3"
   ]
  },
  {
   "cell_type": "markdown",
   "metadata": {},
   "source": [
    ">### Objeto"
   ]
  },
  {
   "cell_type": "code",
   "execution_count": null,
   "metadata": {},
   "outputs": [],
   "source": [
    "case class Persona(id: Int, nombre: String, activo: Boolean)"
   ]
  },
  {
   "cell_type": "code",
   "execution_count": null,
   "metadata": {},
   "outputs": [],
   "source": [
    "val p = Persona(1, \"David\", true)"
   ]
  },
  {
   "cell_type": "code",
   "execution_count": null,
   "metadata": {},
   "outputs": [],
   "source": [
    "p.nombre"
   ]
  },
  {
   "cell_type": "code",
   "execution_count": null,
   "metadata": {},
   "outputs": [],
   "source": [
    "p.activo"
   ]
  },
  {
   "cell_type": "code",
   "execution_count": null,
   "metadata": {},
   "outputs": [],
   "source": [
    "Persona.tupled(tupla)"
   ]
  },
  {
   "cell_type": "code",
   "execution_count": null,
   "metadata": {},
   "outputs": [],
   "source": [
    "Persona.unapply(p)"
   ]
  },
  {
   "cell_type": "markdown",
   "metadata": {},
   "source": [
    ">### G. La función de copy y el concepto de Lences\n",
    ">#### La función copy() y el concepto de Lenses\n",
    "> La función *copy()* viene por defecto en cualquier tupla y en cualquier Case Class. Esta función es muy importante en el contexto de la inmutabilidad, ya que nos permite modificar los valores de un objeto sin necesidad de “sacar sus datos” con *apply* y *tupled*.\n",
    ">\n",
    "> Así entonces, haciendo uso de la función copy, una posible solución para el ejercicio de la clase pasada podría ser:"
   ]
  },
  {
   "cell_type": "code",
   "execution_count": null,
   "metadata": {},
   "outputs": [],
   "source": [
    "// Dos case class\n",
    "case class A(id: Int)\n",
    "case class B(id: Int, a: A)\n",
    "\n",
    "// obj1 es inmutable\n",
    "val obj1 = B(1, A(0))\n",
    "// obj2 es la copia con una copia interna modificada.\n",
    "val obj2 = obj1.copy(a = obj1.a.copy(1))"
   ]
  },
  {
   "cell_type": "markdown",
   "metadata": {},
   "source": [
    "> Se puede observar que *obj1.a.copy* no necesita el nombre del atributo, puesto que la clase A solo tiene uno. En cambio el *obj1.copy* sí necesita el nombre del atributo debido a que la clase B tiene varios.\n",
    ">\n",
    "> Aunque no es un tema que vayamos a profundizar aquí, te habrás dado cuenta que cuando tienes objetos con muchos más objetos internos en un contexto de inmutabilidad, hacer cambios sobre esos objetos puede ser bastante caótico.\n",
    ">\n",
    "> La principal razón, es que en programación funcional es preferible no tener muchos objetos internos dentro de otros, o dicho de otra manera, es una cuestión de estilo de programación.\n",
    ">\n",
    "> Pero por supuesto, sí existen maneras de hacer este proceso menos tedioso, para eso existe algo que se conoce como *Lenses* (lentes en inglés).\n",
    ">\n",
    "> Un Lens es una función que hace más simple mirar y modificar valores internos dentro de una estructura de datos sin necesidad de demasiado código.\n",
    ">\n",
    "> Existen varias alternativas, pero las dos que quiero nombrar aquí son:\n",
    ">\n",
    ">- **Quicklens**: Una de las más sencillas para usar y entender el concepto. https://github.com/softwaremill/quicklens\n",
    ">- **Monocle**: Más potente que la anterior, y basada en otra librería de Lens que se usa en Haskell. https://github.com/julien-truffaut/Monocle\n",
    ">\n",
    "> Como dije, no es un tema que vayamos a profundizar aquí, puesto que la necesidad de usar este tipo de librerías no es muy común, pero de seguro en algún momento sí te vendrá bien saber que existen."
   ]
  },
  {
   "cell_type": "code",
   "execution_count": null,
   "metadata": {},
   "outputs": [],
   "source": []
  }
 ],
 "metadata": {
  "kernelspec": {
   "display_name": "spylon-kernel",
   "language": "scala",
   "name": "spylon-kernel"
  },
  "language_info": {
   "codemirror_mode": "text/x-scala",
   "file_extension": ".scala",
   "help_links": [
    {
     "text": "MetaKernel Magics",
     "url": "https://metakernel.readthedocs.io/en/latest/source/README.html"
    }
   ],
   "mimetype": "text/x-scala",
   "name": "scala",
   "pygments_lexer": "scala",
   "version": "0.4.1"
  }
 },
 "nbformat": 4,
 "nbformat_minor": 4
}
