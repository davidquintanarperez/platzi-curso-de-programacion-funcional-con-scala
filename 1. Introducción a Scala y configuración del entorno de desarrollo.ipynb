{
 "cells": [
  {
   "cell_type": "markdown",
   "metadata": {},
   "source": [
    "# 1. Introducción a Scala y configuración del entorno de desarrollo"
   ]
  },
  {
   "cell_type": "markdown",
   "metadata": {},
   "source": [
    ">## A. Introducción al curso y presentación de los objetivos\n",
    ">\n",
    ">### Objetivos del curso\n",
    ">- Aprender a abordar la programación de manera funcional.\n",
    ">- Conocer diversos conceptos que son comunes en lenguajes funcionales.\n",
    ">- Aplicar los distintos conceptos y tipos de datos funcionales en el día a día.\n",
    ">\n",
    ">### Paradigmas de programación\n",
    ">| Imperativa                          | Declarativa                       |\n",
    ">| ----------------------------------- | --------------------------------- |\n",
    ">| Cercana a la maquina                | Mas racional                      |\n",
    ">| Implementación simple               | Implementación compleja           |\n",
    ">| Evolución a nivel de industria      | Evolución a nivel academico       |\n",
    ">| Mas popular                         | En crecimiento                    \n",
    ">\n",
    ">| Imperativa                          | Declarativa                       |\n",
    ">| ----------------------------------- | --------------------------------- |\n",
    ">| C                                   | SQL                               |\n",
    ">| Java                                | Lisp                              |\n",
    ">| Python                              | Haskel                            |\n",
    ">| JavaScript                          | PuereScript                       |\n",
    ">| Ruby                                | Elixir                            |\n",
    ">| PHP                                 | OCaml                             |\n",
    ">| ...                                 | ...                               |\n",
    ">\n",
    ">### Por que aprender FP?\n",
    ">\n",
    ">- Nuevos puntos de vista para resolver problemas.\n",
    ">- Favorece la construccion de software robusto.\n",
    ">- Favorece la construcción multihilo.\n",
    ">- Nos ayudara a ser mejores programadores."
   ]
  },
  {
   "cell_type": "markdown",
   "metadata": {},
   "source": [
    ">## B. Scala en la historia\n",
    ">\n",
    ">### Un poco de historia y contexto\n",
    ">- Nació en la academia, con la facilidad de aprendizaje en mente.\n",
    ">- Facilidad para experimentar.\n",
    ">- Es compatible con la JVM y todo el ecosistema de Java.\n",
    ">- Nos permitirá aprender otros lenguajes funcionales mas fácilmente\n",
    ">\n",
    "> Stack Overflow - Developer Survey Results 2019: \n",
    "> ![alt text](https://cdn.sstatic.net/insights/Img/Survey/2019/salary_language-1.svg?v=d63c4a852014 \"Logo Title Text 1\")\n",
    ">\n",
    ">### Scala\n",
    ">- Creado por Martin Oderesky.\n",
    ">- Desarrollado en el EPFL (Suiza).\n",
    ">- Primer lanzamiento publico en 2003. \n",
    ">- Se populariza a partir del 2006.\n",
    ">- Genera bytecode que corre sobre la Maquina Virtual de Java (JVM).\n",
    ">- Pensado para ser un \"mejor Java\".\n",
    ">\n",
    ">### Ecole Polytechnique Fédérale de Lausanne (EPFL):\n",
    "> ![alt text](https://live.staticflickr.com/8150/7327041044_e39a8ccab3_b.jpg \"Logo Title Text 1\")\n",
    ">\n",
    ">#### Presente y futuro de Scala\n",
    ">- Exitoso en \"Software Enterprise.\n",
    ">- Comunidad pequeña pero activa.\n",
    ">- Constante evolución y experimentación.\n",
    ">- Scala.js\n",
    ">- ScalaNative\n",
    ">- Dotty, Scala 3"
   ]
  },
  {
   "cell_type": "markdown",
   "metadata": {},
   "source": [
    ">## C. Instalando JVM, SBT y editores\n",
    ">\n",
    ">### JDK8\n",
    ">El compilador de Scala genera bytecode compatible para JDK 8.\n",
    ">\n",
    ">La ejecución si puede ser en versiones modernas de JRE 11.\n",
    ">\n",
    ">- [AdoptOpenJDK](https://adoptopenjdk.net/)\n",
    ">- [Oracle](https://www.oracle.com/mx/java/technologies/javase/javase-jdk8-downloads.html)\n",
    ">\n",
    ">### Scala y SBT\n",
    ">Con SBT podremos escribir scripts para construir el proyecto y manejar dependencias. Es el equivalente a Gradle, NPM, Cargo, etc.\n",
    ">\n",
    ">- www.scala-sbt.org/\n",
    ">\n",
    ">### Editores\n",
    ">Existen muchas alternativas para todos los gustos y propósitos.\n",
    ">\n",
    ">- [REPL: En consola.](https://www.scala-lang.org/download/)\n",
    ">- [ScalaFiddle: Codigo online.](https://scalafiddle.io/)\n",
    ">- [Metals: Integracion con VSC, Atom, SublimeText, etc.](https://scalameta.org/metals/)\n",
    ">- [IntelliJ IDEA: El editor mas potente.](https://www.jetbrains.com/idea/)\n"
   ]
  },
  {
   "cell_type": "markdown",
   "metadata": {},
   "source": [
    ">## D. ¡Hola, Mundo!"
   ]
  },
  {
   "cell_type": "code",
   "execution_count": null,
   "metadata": {},
   "outputs": [],
   "source": [
    "object HolaMundo {\n",
    "    def main(): Unit = {\n",
    "        println(\"Hola Mundo!\")\n",
    "    }\n",
    "}"
   ]
  },
  {
   "cell_type": "code",
   "execution_count": null,
   "metadata": {},
   "outputs": [],
   "source": [
    "HolaMundo.main()"
   ]
  },
  {
   "cell_type": "code",
   "execution_count": null,
   "metadata": {},
   "outputs": [],
   "source": []
  }
 ],
 "metadata": {
  "kernelspec": {
   "display_name": "spylon-kernel",
   "language": "scala",
   "name": "spylon-kernel"
  },
  "language_info": {
   "codemirror_mode": "text/x-scala",
   "file_extension": ".scala",
   "help_links": [
    {
     "text": "MetaKernel Magics",
     "url": "https://metakernel.readthedocs.io/en/latest/source/README.html"
    }
   ],
   "mimetype": "text/x-scala",
   "name": "scala",
   "pygments_lexer": "scala",
   "version": "0.4.1"
  }
 },
 "nbformat": 4,
 "nbformat_minor": 4
}
