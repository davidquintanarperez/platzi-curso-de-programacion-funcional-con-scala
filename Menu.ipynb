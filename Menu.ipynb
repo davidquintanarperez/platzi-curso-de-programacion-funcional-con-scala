{
 "cells": [
  {
   "cell_type": "markdown",
   "metadata": {},
   "source": [
    "<h1>Scala</h1>\n",
    "\n",
    "<ol>\n",
    "    <li>Introducción a Scala y configuración del entorno de desarrollo</li>\n",
    "    <ol>\n",
    "        <li>Introducción al curso y presentación de los objetivos</li>\n",
    "        <li>Scala en la historia</li>\n",
    "        <li>Instalando JVM, SBT y editores</li>\n",
    "        <li>Instalación de las herramientas</li>\n",
    "        <li>¡Hola, Mundo!</li>\n",
    "    </ol>\n",
    "    <li>Fundamentos de Programación Funcional</li>\n",
    "    <ol>\n",
    "        <li>Tipos de datos básicos</li>\n",
    "        <li>Inmutabilidad</li>\n",
    "        <li>Expresiones</li>\n",
    "        <li>Funciones</li>\n",
    "        <li>Colecciones: Secuencias, Conjuntos y Mapas</li>\n",
    "        <li>Tuplas y Objetos</li>\n",
    "        <li>La función de copy y el concepto de Lences</li>\n",
    "    </ol>\n",
    "    <li>Conceptos básicos de Programación Funcional</li>\n",
    "    <ol>\n",
    "        <li>Pattern Matching</li>\n",
    "        <li>Tail recursión</li>\n",
    "        <li>Agregación</li>\n",
    "    </ol>\n",
    "    <li>Fundamentos teóricos</li>\n",
    "    <ol>\n",
    "        <li>Funciones totales y parciales</li>\n",
    "        <li>Razonamiento inductivo</li>\n",
    "        <li>Razonamiento con tipos</li>\n",
    "        <li>Traits</li>\n",
    "        <li>Tipos genéricos</li>\n",
    "        <li>Tipos de datos algebraicos</li>\n",
    "        <li>Evaluación perezosa (Lazy)</li>\n",
    "        <li>Disyunciones: Option</li>\n",
    "        <li>Disyunciones: Either, try </li>\n",
    "    </ol>\n",
    "</ol>"
   ]
  },
  {
   "cell_type": "markdown",
   "metadata": {},
   "source": []
  }
 ],
 "metadata": {
  "kernelspec": {
   "display_name": "spylon-kernel",
   "language": "scala",
   "name": "spylon-kernel"
  },
  "language_info": {
   "codemirror_mode": "text/x-scala",
   "file_extension": ".scala",
   "help_links": [
    {
     "text": "MetaKernel Magics",
     "url": "https://metakernel.readthedocs.io/en/latest/source/README.html"
    }
   ],
   "mimetype": "text/x-scala",
   "name": "scala",
   "pygments_lexer": "scala",
   "version": "0.4.1"
  }
 },
 "nbformat": 4,
 "nbformat_minor": 4
}
