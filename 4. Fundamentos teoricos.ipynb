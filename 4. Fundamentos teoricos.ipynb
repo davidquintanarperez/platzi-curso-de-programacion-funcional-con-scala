{
 "cells": [
  {
   "cell_type": "markdown",
   "metadata": {},
   "source": [
    "## 4. Fundamentos teoricos"
   ]
  },
  {
   "cell_type": "markdown",
   "metadata": {},
   "source": [
    ">## A. Funciones totales y parciales\n",
    ">### Función total\n",
    "> Es una función que puede dar <ins>respuesta a todos</ins> los elementos de su dominio.\n",
    ">\n",
    "> Es decir, que sin importar la entrada, la función sera capaz de responder apropiadamente.\n",
    ">\n",
    ">### Función Parcial\n",
    "> Una función que puede dar <ins> respuesta solo a algunos </ins> elementos de su dominio y a otros no.\n",
    ">\n",
    "> Hay que tener cuidado con funciones que no están bien definidas, o que son **inseguras** de usar por no ser totales.\n",
    ">- .get()\n",
    ">- .head()\n",
    ">- .tail()\n",
    ">- .last()"
   ]
  },
  {
   "cell_type": "code",
   "execution_count": null,
   "metadata": {},
   "outputs": [],
   "source": [
    "val a = List(1,2,3)"
   ]
  },
  {
   "cell_type": "code",
   "execution_count": null,
   "metadata": {},
   "outputs": [],
   "source": [
    "a.head"
   ]
  },
  {
   "cell_type": "code",
   "execution_count": null,
   "metadata": {},
   "outputs": [],
   "source": [
    "a. head"
   ]
  },
  {
   "cell_type": "code",
   "execution_count": null,
   "metadata": {},
   "outputs": [],
   "source": [
    "a.tail"
   ]
  },
  {
   "cell_type": "code",
   "execution_count": null,
   "metadata": {},
   "outputs": [],
   "source": [
    "// Lista que no tiene ningun elemento\n",
    "val b = Nil"
   ]
  },
  {
   "cell_type": "code",
   "execution_count": null,
   "metadata": {},
   "outputs": [],
   "source": [
    "b.head"
   ]
  },
  {
   "cell_type": "code",
   "execution_count": null,
   "metadata": {},
   "outputs": [],
   "source": [
    "a.take(1) // ~= head"
   ]
  },
  {
   "cell_type": "code",
   "execution_count": null,
   "metadata": {},
   "outputs": [],
   "source": [
    "a.drop(1) // ~= tail"
   ]
  },
  {
   "cell_type": "markdown",
   "metadata": {},
   "source": [
    ">## B. Razonamiento inductivo\n",
    "> Razonamiento inductivo\n",
    "> Esta es una manera de razonar donde el primer paso es encontrar lo que se conoce como caso base, es decir, un hecho concreto que usaremos como inicio del proceso que queremos modelar.\n",
    ">\n",
    "> El siguiente paso es modelar la continuación del proceso (paso inductivo) usando el caso base anterior. Lo que sucede entonces es que el resultado de este proceso se convierte en el nuevo caso base. Esto puede repetirse cuantas veces sea necesario, ya que conceptualmente puede ser infinito, aunque lo normal es hallar una condición que detiene el proceso de continuación y entrega el resultado final.\n",
    ">\n",
    "> ¿Te parece familiar esta manera de razonar?, esta es justamente la manera de razonar para crear algoritmos recursivos. En matemática también se usa para realizar pruebas sobre proposiciones. Recuerda que una proposición es algo que afirmas, pero que puede ser falso o verdadero.\n",
    ">\n",
    "> Un ejemplo sencillo de una prueba por inducción matemática sería probar la siguiente proposición: «Los números son infinitos».\n",
    ">\n",
    ">- El caso base sería el número más bajo, que es el 0 (cero).\n",
    ">- La continuación se usa el caso base y se le suma el número 1.\n",
    ">- La prueba es que, si para cualquier caso base puedo sumarle 1, entonces los números son infinitos.\n",
    ">\n",
    "> El resultado de esta proposición es que es cierta, porque a nivel matemático no hay nada que evite que pueda sumarle un 1 a cualquier otro número. Por supuesto esto no es cierto en informática, donde estamos limitados por el espacio de memoria, esto nos pone un límite donde ya no es posible sumar más cuando hay un número muy grande.\n",
    ">\n",
    "> Lo importante aquí es que al momento de pensar en la manera de solucionar un problema de programación, entrenar a nuestro cerebro para usar el razonamiento inductivo nos puede dar soluciones más elegantes y consistentes, lo que normalmente da como resultado software más “correcto”.\n",
    ">\n",
    "> Por supuesto, no en todos los casos una solución de esta naturaleza será la más eficiente computacionalmente, pero pasar de una solución inductiva a una que no, suele ser más fácil que al revés.\n",
    ">\n",
    ">## C. Razonamiento con tipos\n",
    ">### Tipados vs. dinámicos\n",
    ">Los tipos de datos son muy importantes al momento de crear sistemas que escalen.\n",
    ">\n",
    ">Los tipos mantienen la **consistencia** de un sistema, y se vuelven una manera de probarlo.\n",
    ">\n",
    ">### Sistema de tipos\n",
    ">Los tipos son una parte critica para hacer abstracciones. Se vuelven una manera de **documentar** las posibilidades que tenemos.\n",
    ">\n",
    ">Scala a diferencia de Java, tiene un sistema de tipos mucho mas potente y flexible.\n",
    ">\n",
    ">### El legado de ML\n",
    ">**ML** *(Meta Languaje)* es un lenguaje de programación académico que ha influenciado muchos lenguajes funcionales modernos.\n",
    ">\n",
    ">###Proposiciones y Pruebas\n",
    ">- Los tipos, son proposiciones.\n",
    ">- Los programas, son pruebas.\n",
    ">\n",
    ">Nuestros programas son como una gran función matemática.\n",
    ">\n",
    ">El **compilador** se convierte en un razonador que **prueba nuestro software** con base a en las proposiciones que le damos.\n",
    ">\n",
    ">### Tipos vs String\n",
    "> Es un error usar String en vez de tipos, ya que **el compilador no puede probar nada** cuando hay cambios.\n",
    ">\n",
    ">### Definición de tipos en Scala\n",
    ">- Class\n",
    ">- Case Class\n",
    ">- Trait\n",
    ">- Type alias\n",
    ">- Generics"
   ]
  },
  {
   "cell_type": "code",
   "execution_count": null,
   "metadata": {},
   "outputs": [],
   "source": [
    "type PersonaId = Int"
   ]
  },
  {
   "cell_type": "code",
   "execution_count": null,
   "metadata": {},
   "outputs": [],
   "source": [
    "case class Persona(id: PersonaId, nombre: String)"
   ]
  },
  {
   "cell_type": "code",
   "execution_count": null,
   "metadata": {},
   "outputs": [],
   "source": [
    "type Estudiante = Persona"
   ]
  },
  {
   "cell_type": "code",
   "execution_count": null,
   "metadata": {},
   "outputs": [],
   "source": [
    "new Estudiante(1, \"David\")"
   ]
  },
  {
   "cell_type": "markdown",
   "metadata": {},
   "source": [
    ">## D. Traits\n",
    "> Existe un concepto en lenguajes de programación que se conoce como Mixin. Un mixin es algo que contiene funcionalidades que luego pueden ser juntadas en una sola entidad.\n",
    ">\n",
    "> Los Traits son la manera de aplicar este concepto en Scala. Dentro de un Trait podremos colocar cualquier implementación de funciones y/o valores (o hablando en términos de programación orientada a objetos, métodos y/o atributos), esta implementación puede ser mezclada en un solo objeto también (lo que se suele llamar como herencia múltiple en programación orientada a objetos).\n",
    ">\n",
    "> Un Trait se puede definir de la siguiente manera:"
   ]
  },
  {
   "cell_type": "code",
   "execution_count": null,
   "metadata": {},
   "outputs": [],
   "source": [
    "// Definición de un trait\n",
    "trait ejemplo {\n",
    "  val valor = 5\n",
    "  def funcion(x: Int) = x * x\n",
    "}\n",
    "\n",
    "// Para instanciarse debe usarse un objeto\n",
    "object ejemplo extends ejemplo"
   ]
  },
  {
   "cell_type": "markdown",
   "metadata": {},
   "source": [
    "> Aunque los Traits son similares a las clases, se suele preferir en Scala para agrupar código. En vez que tener funciones sueltas, normalmente las agruparemos dentro de Traits.\n",
    ">\n",
    "> Al igual que con las clases, los Traits nos permitirán definir tipos de datos.\n",
    ">\n",
    "> También se puede definir un trait usando la palabra sealed trait . Hacerlo así que evita que puedan instanciarse objetos usando ese trait por fuera del archivo de su definición. Sí, en Scala es posible escribir muchas definiciones ya sea de clases, traits etc, en el mismo archivo (en Java por ejemplo, eso no se puede, ya que el lenguaje nos obliga a usar un archivo por clase).\n",
    ">\n",
    "> El uso de los sealed traits es útil para decirle al compilador que no debe hacer una búsqueda en todo el código para saber dónde se está usando, mejorando los tiempos de compilación.\n",
    ">\n",
    "> Más adelante veremos en más detalle uno de los usos más importantes que se les da a los sealed traits.\n",
    ">\n",
    ">## E. Tipos genéricos\n",
    ">### ¿Qué son?\n",
    "> Un tipo genérico se comporta como un comodín. Nos permiten tener certeza sobre un tipo sin saber que es aun.\n",
    ">\n",
    ">### Especifico vs. Genérico\n",
    "> En lenguajes sin fuertes fundamentos de programación genérica, como Go, se usa un estilo donde hay que ser específicos con los tipos.\n",
    ">\n",
    "> Lenguajes como Scala, se da una flexibilidad mayor, con todo lo bueno y malo que esto trae.\n",
    ">\n",
    ">### El tiempo de compilación\n",
    "> Los tipos genéricos son especializados al momento de compilar.\n",
    ">\n",
    "> Es decir, que si una combinación no tiene sentido, el programa no compilara.\n",
    ">\n",
    ">### ¿Dónde pueden aplicarse?\n",
    "> Scala es muy flexible de en donde se puede definir un tipo función.\n",
    ">\n",
    "> Puede definirse a nivel de función, de clase o de trait."
   ]
  },
  {
   "cell_type": "code",
   "execution_count": null,
   "metadata": {},
   "outputs": [],
   "source": [
    "def f[A](x: A): String = s\"$x\""
   ]
  },
  {
   "cell_type": "code",
   "execution_count": null,
   "metadata": {},
   "outputs": [],
   "source": [
    "f(23)"
   ]
  },
  {
   "cell_type": "code",
   "execution_count": null,
   "metadata": {},
   "outputs": [],
   "source": [
    "f(true)"
   ]
  },
  {
   "cell_type": "code",
   "execution_count": null,
   "metadata": {},
   "outputs": [],
   "source": [
    "trait ejemploDos[A, B] {\n",
    "    def g(x: A, f: A => B): B = f(x)\n",
    "}"
   ]
  },
  {
   "cell_type": "code",
   "execution_count": null,
   "metadata": {},
   "outputs": [],
   "source": [
    "object ejemploDos extends ejemploDos[Int, String]"
   ]
  },
  {
   "cell_type": "code",
   "execution_count": null,
   "metadata": {},
   "outputs": [],
   "source": [
    "ejemploDos.g(3, f)"
   ]
  },
  {
   "cell_type": "markdown",
   "metadata": {},
   "source": [
    ">## F. Tipos de datos algebraicos (*Tipos polinómicos*)\n",
    ">### Categoría de tipos\n",
    ">Cualquier tipo de dato, puede categorizarse en uno de los dos tipos:\n",
    ">- Tipos **Suma**\n",
    ">- Tipos **Producto**\n",
    ">\n",
    ">### Ejemplos\n",
    ">| Tipo Suma: | Tipo Producto |\n",
    ">| ---------- | ------------- |\n",
    ">| Boolean    | String        |\n",
    ">| Error      | Geometry      |\n",
    ">| etc...     | Persona       |\n",
    ">|            | etc...        |\n",
    ">| (+)        | (*)           |\n",
    ">\n",
    ">### ¿Por qué es importante?\n",
    "> Cuando pensamos en un tipo de dato, saber si es de tipo suma o tipo producto nos guiara sobre la mejor manera de implementarlo.\n",
    ">\n",
    "> Como implementar ADTs\n",
    ">- Los ADT tipo *Producto*, se pueden implementar como simples case class, class, incluso traits.\n",
    ">- Los ADT tipo *Suma*, se pueden implementar con *sealed traits*."
   ]
  },
  {
   "cell_type": "code",
   "execution_count": null,
   "metadata": {},
   "outputs": [],
   "source": [
    "sealed trait Persona"
   ]
  },
  {
   "cell_type": "code",
   "execution_count": null,
   "metadata": {},
   "outputs": [],
   "source": [
    "case class Estudiante(nombre: String) extends Persona"
   ]
  },
  {
   "cell_type": "code",
   "execution_count": null,
   "metadata": {},
   "outputs": [],
   "source": [
    "case class Profesor(nombre: String, profesion: String) extends Persona"
   ]
  },
  {
   "cell_type": "code",
   "execution_count": null,
   "metadata": {},
   "outputs": [],
   "source": [
    "val me: Persona = Profesor(\"David\", \"Desarrollador\")"
   ]
  },
  {
   "cell_type": "code",
   "execution_count": null,
   "metadata": {},
   "outputs": [],
   "source": [
    "me"
   ]
  },
  {
   "cell_type": "code",
   "execution_count": null,
   "metadata": {},
   "outputs": [],
   "source": [
    "// Error por que le falta para Estudiante\n",
    "// Al definir un sealed trait requiere un caso para cada uno de los que extiende\n",
    "me match {\n",
    "    case Profesor(nombre, profesion) => s\"$nombre, es $profesion\n",
    "}"
   ]
  },
  {
   "cell_type": "code",
   "execution_count": null,
   "metadata": {},
   "outputs": [],
   "source": [
    "me match {\n",
    "    case Profesor(nombre, profesion) => s\"$nombre, es $profesion\"\n",
    "    case Estudiante(nombre) => s\"$nombre es estudiante\"\n",
    "}"
   ]
  },
  {
   "cell_type": "markdown",
   "metadata": {},
   "source": [
    ">El tipo persona solo tiene dos opciones por lo que es un tipo SUMA, pero profesor y estudiante son PRODUCTO\n",
    ">\n",
    ">## G. Evaluación perezosa (*Lazy*)\n",
    ">### ¿En qué consiste?\n",
    ">Es una manera para evitar la evaluación de un valor hasta que sea utilizado.\n",
    ">\n",
    ">Puede ser util en casos donde no estemos seguros del orden en que algo se evaluara, o cuando queremos optimizar el tiempo de inicialización de muchos datos.\n",
    ">\n",
    ">### Lazy collections (Scala 2.13)\n",
    ">En el contexto de listas, conjuntos y mapas, tienen un equivalente lazy (usando *.view*).\n",
    ">\n",
    ">Su utilidad viene cuando tenemos colecciones demasiado grandes. Es una manera de optimizar."
   ]
  },
  {
   "cell_type": "code",
   "execution_count": null,
   "metadata": {},
   "outputs": [],
   "source": [
    "lazy val y = x -1\n",
    "lazy val x = 100\n",
    "\n",
    "println(y)"
   ]
  },
  {
   "cell_type": "code",
   "execution_count": null,
   "metadata": {},
   "outputs": [],
   "source": [
    "// En consola\n",
    "val a = LazyList(1,2,3)"
   ]
  },
  {
   "cell_type": "code",
   "execution_count": null,
   "metadata": {},
   "outputs": [],
   "source": [
    "// Cuando queramos utilizar tiempos de carga, dependencias, etc."
   ]
  },
  {
   "cell_type": "markdown",
   "metadata": {},
   "source": [
    ">## H. Disyunciones: Option\n",
    ">### Que es una disyunción?\n",
    "> Una disyunción es algo que puede explicar dos cosas a la vez\n",
    ">\n",
    "> En lenguaje lógico, se escribe AvB\n",
    "> ![diagrama de venn](https://i.ytimg.com/vi/2aV1SjJfr-k/maxresdefault.jpg)\n",
    ">\n",
    ">### Option\n",
    "> La idea es tratar los valores nulos como **inexistentes** para solo operar cuando el valor en realidad exista.\n",
    ">\n",
    "> De esta manera, no hay que **comprobar** la existencia en cada paso.\n",
    "> ![option](https://madusudanan.com/images/scala-option.png)\n",
    ">\n",
    "> La idea es tratar los valores nulos como **inexistentes** para solo operar cuando el valor en realidad exista.\n",
    ">\n",
    "> De esta manera, no hay que **comprobar** la existencia en cada caso.\n",
    ">### Composición\n",
    "> El tipo Option no solo envuelve los posibles valores nulos, sino que también provee una manera **estructural** de llevar ejecución.\n",
    ">\n",
    "> Esto evita dejar cabos sueltos!\n",
    ">\n",
    ">### .map() vs .flatMap()\n",
    "> Una manera de verlo es como una lista de un solo elemento.\n",
    ">- Operamos el valor interno con .map()\n",
    ">- Encadenamos resultados con .flatMap()"
   ]
  },
  {
   "cell_type": "code",
   "execution_count": null,
   "metadata": {},
   "outputs": [],
   "source": [
    "val a = Option(2)"
   ]
  },
  {
   "cell_type": "code",
   "execution_count": null,
   "metadata": {},
   "outputs": [],
   "source": [
    "val b = Option(null)"
   ]
  },
  {
   "cell_type": "code",
   "execution_count": null,
   "metadata": {},
   "outputs": [],
   "source": [
    "// No recomendado\n",
    "val c = Some(null)"
   ]
  },
  {
   "cell_type": "code",
   "execution_count": null,
   "metadata": {},
   "outputs": [],
   "source": [
    "val lista = List(1,2,3)"
   ]
  },
  {
   "cell_type": "code",
   "execution_count": null,
   "metadata": {},
   "outputs": [],
   "source": [
    "lista.find(x => x == 3)"
   ]
  },
  {
   "cell_type": "code",
   "execution_count": null,
   "metadata": {},
   "outputs": [],
   "source": [
    "lista.find(x => x == 4)"
   ]
  },
  {
   "cell_type": "code",
   "execution_count": null,
   "metadata": {},
   "outputs": [],
   "source": [
    "// lista.find(x => x == 3).map(y => y+1)\n",
    "lista.find(x => x == 3).map(_ +1)"
   ]
  },
  {
   "cell_type": "code",
   "execution_count": null,
   "metadata": {},
   "outputs": [],
   "source": [
    "// lista.find(x => x == 4).map(y => y+1)\n",
    "lista.find(x => x == 4).map(_ +1)"
   ]
  },
  {
   "cell_type": "code",
   "execution_count": null,
   "metadata": {},
   "outputs": [],
   "source": [
    "// res: Option[Option[Int]] = Some(Some(4))\n",
    "lista.find(x => x == 3).map(x => lista.headOption.map(y => x+y))"
   ]
  },
  {
   "cell_type": "code",
   "execution_count": null,
   "metadata": {},
   "outputs": [],
   "source": [
    "// res: Option[Int] = Some(4)\n",
    "val resultado = lista.find(x => x == 3).flatMap(x => lista.headOption.map(y => x+y))"
   ]
  },
  {
   "cell_type": "code",
   "execution_count": null,
   "metadata": {},
   "outputs": [],
   "source": [
    "// resultado.get no funciona con None - None.get - se usa getOrElse\n",
    "resultado.getOrElse(0)"
   ]
  },
  {
   "cell_type": "code",
   "execution_count": null,
   "metadata": {},
   "outputs": [],
   "source": [
    "None.getOrElse(0)"
   ]
  },
  {
   "cell_type": "markdown",
   "metadata": {},
   "source": [
    ">## I. Disyunciones: Either, try\n",
    ">### Try\n",
    "> Similar a Option, pero en el contexto de las excepciones.\n",
    ">\n",
    "> Son las excepciones en verdad tan terribles?\n",
    ">\n",
    "> Pista: Si. (En programación funcional las evitaremos).\n",
    ">\n",
    "> ![try](https://image.slidesharecdn.com/joyofscala-160529195524/95/joy-of-scala-48-638.jpg?cb=1496910919)\n",
    "> La idea es tratar las excepciones como **valores**, y no saltar abruptamente en la ejecución del código.\n",
    ">\n",
    "> De esta manera no hay que chequear por excepciones en cada sección de código.\n",
    ">\n",
    ">### Either\n",
    "> Similar a Option y Try, pero aplicable a cualquier contexto.\n",
    ">\n",
    "> Una vez entendemos esta manera de componer nuestros programas, nos aseguramos de cubrir ~~casi~~ todas las posibilidades.\n",
    ">\n",
    "> ![either](data:image/png;base64,iVBORw0KGgoAAAANSUhEUgAAAP4AAADGCAMAAADFYc2jAAAAkFBMVEX////i4uIAAACzs7OjpKampqacnZ+rq6usra+TlJWioqKvr69eX2B5eXnR0dHe3t+9vb329vc9Pj/z8/Tr6+tzdHRUVFXGxsdsbW5FRkhkZGWIiYrDw8Q5OTrNzc4qKywXGBoRERGBgoMfICKWl5hOTlCFhoYvMDMAAAglJinX19gzNTZYWVoYGBgKCw08PT4t2YLHAAAL/ElEQVR4nO2dCZuqLBTHEccal1TScittc+ZmTfP9v93LQW3fBe/bjf9zn1tjgPyUReB4QOo7q4PeWsrfzsDflcR/Z0n8d5bEf2dJfP4qPsWIf06F4OvxQuevDuafUzH4IxGpopfBd0WkKvG5S+Lzl8QXIYnPWxKfvyS+CEl83pL4/CXxRUji85ZYfM2g6qREK/+0g0sxVKMLH+ZupNyFmA5CxDDqgy+HjzVVVc3CXyLkUvRF71KM8RdEUfC0PkAgqoENRNyBVafGP6eC8cn22KyDUGd2KUY/hf8XsyytDhAWtQBi9XXxPfbhD1H2s1zZna80j9htHoxjWrCVmKxNFqLPqsW306vLB2FRPbgIL4xfnQQj0tMJ6nwPPBvblEol6R8FFavIKm83w1d+UFAjEvhCQrgaL4wPsgG/LPwZPfalo55BP0cxLdtqFZDh67Ru0NBMZA5Rl/D1hfGrk9DPHuAP4McE9eNerxdPkLMFYvhL1/fWVelndx91J69d+Mu6v8WHpo/ij7s2lYOKTR0D8BVsDdfDn/JAWffRd/oP4g/gOYAUqPhTxwB8nd34qvRX+Fnw0vhlxwf4ybrq9ym+j1PkZ0bZrzEBfsZa/3CGUtoklB1f57Vb/h/W9g38DFpxnHQTemyhI+REeEVbPSerY1B8Zc6+BStkA/4YYoZQBF4X/26Nu/sZWXt7fyiLfx8/iQe7B8Ri/+HQC+Pa+uzfxT8QuXD8TfAvSeLzlsTnL4kvQhKftyQ+f0l8EZL4vCXx+evd8d/crLGnmicqX506PX53MPVV8G3jVFrOZn4S7cxv+8Gsy8E0/jltz6C9cO1gjG+ez8A9JxBTec6oVXv+qDO/eb6Fngu4y5fUJn6uo82lmZytFh3yrd4KxE0t4ltf1fT1VekL5GExHecZtYcfhgiR4c1g3U9Y2L1oB8FZreEn4QOBlU16OxAPtYWf3L7v+3LmjqCMHKolfOP3wQjp7S6Sh9rB/5w/HMXG3u1AjdUKvjq52eCfiTT1+efkWG3gB/OnQNSx+PvfAn66efIkxphvRs5IPL6Pn27EFxHPjJyTcHylNlZ6RknOLyNnJRrfnzd6gOkNeGXkvATje8uGw5fwoh0sF4nFJ6tu0ySGCY+MXJJY/G+jeRqRSNdCQvHpAJ+Dlh88UjkvkfjhF5dkRE5/CMQfPDLEvSZ/Lmz6Qxx+Yt0Oc6f8SYNnh6sShp/wfGJzcMExtT2Jwv9YcU3OETT8F4Rvrp4Y4l7T0+Om6xKD7865j1WfHDXfkBi/PVhAVtXbawSPSwR+Iaaiqkv+aQrIqPP8AP+6DL7NKYg/vsA5en3NO0Xu+P5c4PLsjN+jVCnu+H+Erk9ye5CuxBmfZI0H+NcV853+4IyfcxjgX1fEdfqDL/6azxD3qrhOf3DFDy++oc1TGUfrD574YcwxscsiS37Df474Cfde+YJ8zK1v5YcvfklmK7/J0smBuOFr4hfkdnJ48fPCdzMB47HLKjgN/znhjzZtGCPsiZP1Bx98W8QA/7qCCY8LzgW/EDXEvSaVx4wSD3zlj6B52OsyOTS2HPDBGcFfUaffOInm+N60NfvrYz1oLHhGzfHn7Rkgn6jx9EdTfPIrfIh7TWFD64+m+MNFwwQaymo2yGyIP2xliHtNeaPpj2b4gi1v7lLUxPqhEX6vnQH+dZFlg10bmuDroq3u7hOZPD/90QC/094A/7oaTH88j9/lv+T0rJ63/nga381aHuJeU/Gs9cez+CMu401ucp6c/tiPFXTvloET9d6wDd7Kuvscaozvz3x3V1UOPIUl2t0y7w751eC5HHfvPUv37pCaNts9rezjW2JMPZrg88vGnooL+ELmbP5/+LbEryTxt5L4AiTxn5bEFyCJX0vibyXxBUjiPy2JL0ASv9ZNfG94aLXih/3dxGIw7MMsk5HTMH5+3qSTK34vz/NhhyBibSebnJPZ9k4eeWhAQ+Y0pNsfHk+EPYR/5EMj1300rmOZaw8uzi/zM+TpZxc9uOJnqe8r4QqRZJur7RYPg3q+e6B7iExtGnJtIeJlx9NNTfA3Ps3VFp9d+SJfsBl/owV8lsWf7WyVt5k5k+q7VS81w+YPZOKjamObMQ98Jd9semiE8c/PD54uyxpR4n91fBaoNfzfgGCfVoDpnN7ZIku/ceR5GG+q+d6BUeP7kAAPfJK55e4ZYMK1NWQq8WmeJnDl28CH/KaYeJQuTpgFeYF75UJ3vC38gD8fOUUwhPUvHvguA50Thr61ZGL4xQohtoNCC/j9Vf93PAkQ4EMVHOUUn5bE9Hu/8AN+FoehtQFyHvgd5kSRlq5T/CRXzQRCtXH3bUI0erkBfwK7uYRl05dmx/hV4Vc44deW+vik6ZssNK0LL1m3VPcJvQmAn+KkR3NTTOhx+xSf5XFNj42PLa8ew2etXAGbqHjJGfyCbSS0iNtr+hY9iu/Rq5AC2BZ/fXr3UTZqfPcD2EIJzYZ20NdL/Khnl90B4M+YgYdDj7eAzxy5eZj+o08fuWXN1HJzn3ROK8KvXTbJDH/q2nZgwSJ0I3wy61FRRLc3g4v9RcGJHpbxAD8pYyUF0sTj6wzQcEhC0rXi2+pw5oN1iwJuMrTqwYdt+qRDtll5aIR/VZ+ZsTXmJdr6rJmVqGf+cus+94yRwcDS9na50U5cP3LDV9TuDt80z66yi8L3l3mShOdW9lPT3OE7XfXY3PofGfEVQfDUsv4/gv+sJH4tib+VxBcgif+0JL4ASfxaEn8riS9AEv9ptYv/3maN66+OADV52Qx/iMhR7zz+6EOIGrzlaIrJ0W7us9WNaf5/kvjvLIn/zpL47yyJ/86S+O8sif/Okvj3iIQYn5kNcY/G8qPSAErRqpV+96Z7h9GR6x0Vby1ntNI7wuLAaIKZWEUBQuHOJWz2vNOoO/HxJ+TsZC3dPcp8fTmctDT/Um86cDwyT/Cxjxxcf2eZyw7OqoMZh41HKKhn5giaVvju416s7sMfsUya4CTEU5i1gKcopML3lW0iboVLPKLgQAF8v/zRh+DI8+oTKpWp7Bafpeu7S18ZzctToCH4ZHWmLHZtWaszRy1GiJgxMVF8FwdLh7DIWuQ/6jjuTvytp4aPlTWlufr4tnJa5gB/tor7Y/8QvxMWazyM6d/6Ovr1EBnm1vcIoS99UNoEOrhziN9ZWf0e0qJNbA2xVVrRdWELR32GUC9aT4J9fC1EloZQuoyjiYfm3WGMNfQVTaxHvbjcWfiX67IIFtiDLdYUsO8yLMAfQVENqw143LGrqi69OoPSBMzFJkKWzn4Hu189G5QXyp+lB/gpbFgYfqDim2apdkTPSv+3zcKk1Y6GrPA72IW674FlS+Siee7RQx4KHnelcm/L//GLY5rjEG6aSiMpn0avXxb+QjPiynW2m3UWC6PCV+BvetAMCavNgy7ST3ysVfgx2GA5GbPPc7Z++Gnpd+ZgQLUz1VmwtvWTNX3KBLHisAGDro2DXHH4CLaH0FFUzluSfNVRE4bvz3PNDWv8qumr8VnT9xn6+Gc6ndLoyYmLpQo/39AAP9ERvjphhZ1YeFhbkLG7D5bb7O7Tz76K4ANNBOJ3WNuq4NJyUkEGYNGGluKHQFRvslvX/QN8M/TqNw4u4q+rqn2I72FlVZ5ZDSs7Ylb39bDs+BZ/wj49k3D8BWv6RhnqwhlwAe0RiiLAH6rwUsFV/BiNodAMih0+CZQD/E8IOJqV+PXFos1GCH2ZBm7R8o8dPhjaUvz0m/jQI2zxH3dfeGfh7+GFOoB+P1qbvzEtB4m60pdwvQPc0VazCttdqqZpdn3aMSFraHoqXK2uRcPrZr7eu/u7ln8KEQKUD9WEXjB7AvaoM7Wq7CNctnShOqs8xSSsUwg/UawhkmE8XXdYXYD/fKw/6r/p3rqvdI0y6ZEB5dTTNI/Qxoce8w0T+WYVirkGMZQCwqgdH35HzghsHg3oOuz6EcbTir0YkHRgALMPlYtotVUmqaq8a9RcNusxfBeNCjSD/qSIDGa3aELPbzzqOvGVn/lz5iswbLLr3SvjO3m0XkdhE/fQr4zPnrebOY96bfzGkvjvLIn/zpL47yyJ/85SkPLOCv4Dx2TafB2XSdsAAAAASUVORK5CYII=)"
   ]
  },
  {
   "cell_type": "code",
   "execution_count": null,
   "metadata": {},
   "outputs": [],
   "source": [
    "import scala.util.Try"
   ]
  },
  {
   "cell_type": "code",
   "execution_count": null,
   "metadata": {},
   "outputs": [],
   "source": [
    "val a = Try(Nil.head)"
   ]
  },
  {
   "cell_type": "code",
   "execution_count": null,
   "metadata": {},
   "outputs": [],
   "source": [
    "a"
   ]
  },
  {
   "cell_type": "code",
   "execution_count": null,
   "metadata": {},
   "outputs": [],
   "source": [
    "a.map(x => s\"$x\")"
   ]
  },
  {
   "cell_type": "code",
   "execution_count": null,
   "metadata": {},
   "outputs": [],
   "source": [
    "Right(10).map(_ + 1)"
   ]
  },
  {
   "cell_type": "code",
   "execution_count": null,
   "metadata": {},
   "outputs": [],
   "source": [
    "Left(10).map(_ + 1)"
   ]
  },
  {
   "cell_type": "code",
   "execution_count": null,
   "metadata": {},
   "outputs": [],
   "source": [
    "Left[Int, Int](10).map(_ + 1)"
   ]
  },
  {
   "cell_type": "code",
   "execution_count": null,
   "metadata": {},
   "outputs": [],
   "source": []
  }
 ],
 "metadata": {
  "kernelspec": {
   "display_name": "spylon-kernel",
   "language": "scala",
   "name": "spylon-kernel"
  },
  "language_info": {
   "codemirror_mode": "text/x-scala",
   "file_extension": ".scala",
   "help_links": [
    {
     "text": "MetaKernel Magics",
     "url": "https://metakernel.readthedocs.io/en/latest/source/README.html"
    }
   ],
   "mimetype": "text/x-scala",
   "name": "scala",
   "pygments_lexer": "scala",
   "version": "0.4.1"
  }
 },
 "nbformat": 4,
 "nbformat_minor": 4
}
